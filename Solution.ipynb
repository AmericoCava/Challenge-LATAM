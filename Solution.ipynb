{
 "cells": [
  {
   "cell_type": "markdown",
   "id": "9b942828-5f32-4897-9531-0855a0d393ef",
   "metadata": {},
   "source": [
    "## 1. Cargando datos"
   ]
  },
  {
   "cell_type": "code",
   "execution_count": 1,
   "id": "1565d6d4-9908-46cc-943e-87cdb2d78110",
   "metadata": {},
   "outputs": [],
   "source": [
    "import datetime as dt\n",
    "import pandas as pd\n",
    "import numpy as np\n",
    "import matplotlib.pyplot as plt"
   ]
  },
  {
   "cell_type": "code",
   "execution_count": 34,
   "id": "bf321538-e8c0-44da-bd27-957c5b65ebaa",
   "metadata": {
    "tags": []
   },
   "outputs": [],
   "source": [
    "# lectura de dataset csv\n",
    "dataset = pd.read_csv(\"dataset_SCL.csv\")"
   ]
  },
  {
   "cell_type": "code",
   "execution_count": 3,
   "id": "a2794920-aa9e-45ed-840e-40d889030590",
   "metadata": {},
   "outputs": [
    {
     "data": {
      "text/html": [
       "<div>\n",
       "<style scoped>\n",
       "    .dataframe tbody tr th:only-of-type {\n",
       "        vertical-align: middle;\n",
       "    }\n",
       "\n",
       "    .dataframe tbody tr th {\n",
       "        vertical-align: top;\n",
       "    }\n",
       "\n",
       "    .dataframe thead th {\n",
       "        text-align: right;\n",
       "    }\n",
       "</style>\n",
       "<table border=\"1\" class=\"dataframe\">\n",
       "  <thead>\n",
       "    <tr style=\"text-align: right;\">\n",
       "      <th></th>\n",
       "      <th>Fecha-I</th>\n",
       "      <th>Vlo-I</th>\n",
       "      <th>Ori-I</th>\n",
       "      <th>Des-I</th>\n",
       "      <th>Emp-I</th>\n",
       "      <th>Fecha-O</th>\n",
       "      <th>Vlo-O</th>\n",
       "      <th>Ori-O</th>\n",
       "      <th>Des-O</th>\n",
       "      <th>Emp-O</th>\n",
       "      <th>DIA</th>\n",
       "      <th>MES</th>\n",
       "      <th>AÑO</th>\n",
       "      <th>DIANOM</th>\n",
       "      <th>TIPOVUELO</th>\n",
       "      <th>OPERA</th>\n",
       "      <th>SIGLAORI</th>\n",
       "      <th>SIGLADES</th>\n",
       "    </tr>\n",
       "  </thead>\n",
       "  <tbody>\n",
       "    <tr>\n",
       "      <th>0</th>\n",
       "      <td>2017-01-01 23:30:00</td>\n",
       "      <td>226</td>\n",
       "      <td>SCEL</td>\n",
       "      <td>KMIA</td>\n",
       "      <td>AAL</td>\n",
       "      <td>2017-01-01 23:33:00</td>\n",
       "      <td>226</td>\n",
       "      <td>SCEL</td>\n",
       "      <td>KMIA</td>\n",
       "      <td>AAL</td>\n",
       "      <td>1</td>\n",
       "      <td>1</td>\n",
       "      <td>2017</td>\n",
       "      <td>Domingo</td>\n",
       "      <td>I</td>\n",
       "      <td>American Airlines</td>\n",
       "      <td>Santiago</td>\n",
       "      <td>Miami</td>\n",
       "    </tr>\n",
       "    <tr>\n",
       "      <th>1</th>\n",
       "      <td>2017-01-02 23:30:00</td>\n",
       "      <td>226</td>\n",
       "      <td>SCEL</td>\n",
       "      <td>KMIA</td>\n",
       "      <td>AAL</td>\n",
       "      <td>2017-01-02 23:39:00</td>\n",
       "      <td>226</td>\n",
       "      <td>SCEL</td>\n",
       "      <td>KMIA</td>\n",
       "      <td>AAL</td>\n",
       "      <td>2</td>\n",
       "      <td>1</td>\n",
       "      <td>2017</td>\n",
       "      <td>Lunes</td>\n",
       "      <td>I</td>\n",
       "      <td>American Airlines</td>\n",
       "      <td>Santiago</td>\n",
       "      <td>Miami</td>\n",
       "    </tr>\n",
       "    <tr>\n",
       "      <th>2</th>\n",
       "      <td>2017-01-03 23:30:00</td>\n",
       "      <td>226</td>\n",
       "      <td>SCEL</td>\n",
       "      <td>KMIA</td>\n",
       "      <td>AAL</td>\n",
       "      <td>2017-01-03 23:39:00</td>\n",
       "      <td>226</td>\n",
       "      <td>SCEL</td>\n",
       "      <td>KMIA</td>\n",
       "      <td>AAL</td>\n",
       "      <td>3</td>\n",
       "      <td>1</td>\n",
       "      <td>2017</td>\n",
       "      <td>Martes</td>\n",
       "      <td>I</td>\n",
       "      <td>American Airlines</td>\n",
       "      <td>Santiago</td>\n",
       "      <td>Miami</td>\n",
       "    </tr>\n",
       "    <tr>\n",
       "      <th>3</th>\n",
       "      <td>2017-01-04 23:30:00</td>\n",
       "      <td>226</td>\n",
       "      <td>SCEL</td>\n",
       "      <td>KMIA</td>\n",
       "      <td>AAL</td>\n",
       "      <td>2017-01-04 23:33:00</td>\n",
       "      <td>226</td>\n",
       "      <td>SCEL</td>\n",
       "      <td>KMIA</td>\n",
       "      <td>AAL</td>\n",
       "      <td>4</td>\n",
       "      <td>1</td>\n",
       "      <td>2017</td>\n",
       "      <td>Miercoles</td>\n",
       "      <td>I</td>\n",
       "      <td>American Airlines</td>\n",
       "      <td>Santiago</td>\n",
       "      <td>Miami</td>\n",
       "    </tr>\n",
       "    <tr>\n",
       "      <th>4</th>\n",
       "      <td>2017-01-05 23:30:00</td>\n",
       "      <td>226</td>\n",
       "      <td>SCEL</td>\n",
       "      <td>KMIA</td>\n",
       "      <td>AAL</td>\n",
       "      <td>2017-01-05 23:28:00</td>\n",
       "      <td>226</td>\n",
       "      <td>SCEL</td>\n",
       "      <td>KMIA</td>\n",
       "      <td>AAL</td>\n",
       "      <td>5</td>\n",
       "      <td>1</td>\n",
       "      <td>2017</td>\n",
       "      <td>Jueves</td>\n",
       "      <td>I</td>\n",
       "      <td>American Airlines</td>\n",
       "      <td>Santiago</td>\n",
       "      <td>Miami</td>\n",
       "    </tr>\n",
       "  </tbody>\n",
       "</table>\n",
       "</div>"
      ],
      "text/plain": [
       "               Fecha-I Vlo-I Ori-I Des-I Emp-I              Fecha-O Vlo-O  \\\n",
       "0  2017-01-01 23:30:00   226  SCEL  KMIA   AAL  2017-01-01 23:33:00   226   \n",
       "1  2017-01-02 23:30:00   226  SCEL  KMIA   AAL  2017-01-02 23:39:00   226   \n",
       "2  2017-01-03 23:30:00   226  SCEL  KMIA   AAL  2017-01-03 23:39:00   226   \n",
       "3  2017-01-04 23:30:00   226  SCEL  KMIA   AAL  2017-01-04 23:33:00   226   \n",
       "4  2017-01-05 23:30:00   226  SCEL  KMIA   AAL  2017-01-05 23:28:00   226   \n",
       "\n",
       "  Ori-O Des-O Emp-O  DIA  MES   AÑO     DIANOM TIPOVUELO              OPERA  \\\n",
       "0  SCEL  KMIA   AAL    1    1  2017    Domingo         I  American Airlines   \n",
       "1  SCEL  KMIA   AAL    2    1  2017      Lunes         I  American Airlines   \n",
       "2  SCEL  KMIA   AAL    3    1  2017     Martes         I  American Airlines   \n",
       "3  SCEL  KMIA   AAL    4    1  2017  Miercoles         I  American Airlines   \n",
       "4  SCEL  KMIA   AAL    5    1  2017     Jueves         I  American Airlines   \n",
       "\n",
       "   SIGLAORI SIGLADES  \n",
       "0  Santiago    Miami  \n",
       "1  Santiago    Miami  \n",
       "2  Santiago    Miami  \n",
       "3  Santiago    Miami  \n",
       "4  Santiago    Miami  "
      ]
     },
     "execution_count": 3,
     "metadata": {},
     "output_type": "execute_result"
    }
   ],
   "source": [
    "dataset.head()"
   ]
  },
  {
   "cell_type": "markdown",
   "id": "ab4863b4-1180-45a3-9f95-194c29d74a10",
   "metadata": {},
   "source": [
    "## 2. Explorando datos"
   ]
  },
  {
   "cell_type": "code",
   "execution_count": 4,
   "id": "54229945-1344-4031-b0e8-fcb2f07f4eda",
   "metadata": {},
   "outputs": [
    {
     "data": {
      "text/plain": [
       "Index(['Fecha-I', 'Vlo-I', 'Ori-I', 'Des-I', 'Emp-I', 'Fecha-O', 'Vlo-O',\n",
       "       'Ori-O', 'Des-O', 'Emp-O', 'DIA', 'MES', 'AÑO', 'DIANOM', 'TIPOVUELO',\n",
       "       'OPERA', 'SIGLAORI', 'SIGLADES'],\n",
       "      dtype='object')"
      ]
     },
     "execution_count": 4,
     "metadata": {},
     "output_type": "execute_result"
    }
   ],
   "source": [
    "# que columnas tienen los datos?\n",
    "dataset.columns"
   ]
  },
  {
   "cell_type": "code",
   "execution_count": 5,
   "id": "7e8bb5b5-d4e1-4bea-8127-50f16d70956e",
   "metadata": {},
   "outputs": [
    {
     "data": {
      "text/plain": [
       "(68206, 18)"
      ]
     },
     "execution_count": 5,
     "metadata": {},
     "output_type": "execute_result"
    }
   ],
   "source": [
    "# qué tamaño tienen los datos?\n",
    "dataset.shape"
   ]
  },
  {
   "cell_type": "code",
   "execution_count": 6,
   "id": "501f08f9-c010-492d-b053-ec215b6dc7f7",
   "metadata": {},
   "outputs": [
    {
     "name": "stdout",
     "output_type": "stream",
     "text": [
      "<class 'pandas.core.frame.DataFrame'>\n",
      "RangeIndex: 68206 entries, 0 to 68205\n",
      "Data columns (total 18 columns):\n",
      " #   Column     Non-Null Count  Dtype \n",
      "---  ------     --------------  ----- \n",
      " 0   Fecha-I    68206 non-null  object\n",
      " 1   Vlo-I      68206 non-null  object\n",
      " 2   Ori-I      68206 non-null  object\n",
      " 3   Des-I      68206 non-null  object\n",
      " 4   Emp-I      68206 non-null  object\n",
      " 5   Fecha-O    68206 non-null  object\n",
      " 6   Vlo-O      68205 non-null  object\n",
      " 7   Ori-O      68206 non-null  object\n",
      " 8   Des-O      68206 non-null  object\n",
      " 9   Emp-O      68206 non-null  object\n",
      " 10  DIA        68206 non-null  int64 \n",
      " 11  MES        68206 non-null  int64 \n",
      " 12  AÑO        68206 non-null  int64 \n",
      " 13  DIANOM     68206 non-null  object\n",
      " 14  TIPOVUELO  68206 non-null  object\n",
      " 15  OPERA      68206 non-null  object\n",
      " 16  SIGLAORI   68206 non-null  object\n",
      " 17  SIGLADES   68206 non-null  object\n",
      "dtypes: int64(3), object(15)\n",
      "memory usage: 9.4+ MB\n"
     ]
    }
   ],
   "source": [
    "# hay valores nulos en los datos?\n",
    "dataset.info()"
   ]
  },
  {
   "cell_type": "code",
   "execution_count": 7,
   "id": "c97c8916-0304-49ab-b7ba-b45a357dadea",
   "metadata": {},
   "outputs": [
    {
     "data": {
      "text/html": [
       "<div>\n",
       "<style scoped>\n",
       "    .dataframe tbody tr th:only-of-type {\n",
       "        vertical-align: middle;\n",
       "    }\n",
       "\n",
       "    .dataframe tbody tr th {\n",
       "        vertical-align: top;\n",
       "    }\n",
       "\n",
       "    .dataframe thead th {\n",
       "        text-align: right;\n",
       "    }\n",
       "</style>\n",
       "<table border=\"1\" class=\"dataframe\">\n",
       "  <thead>\n",
       "    <tr style=\"text-align: right;\">\n",
       "      <th></th>\n",
       "      <th>DIA</th>\n",
       "      <th>MES</th>\n",
       "      <th>AÑO</th>\n",
       "    </tr>\n",
       "  </thead>\n",
       "  <tbody>\n",
       "    <tr>\n",
       "      <th>count</th>\n",
       "      <td>68206.000000</td>\n",
       "      <td>68206.000000</td>\n",
       "      <td>68206.000000</td>\n",
       "    </tr>\n",
       "    <tr>\n",
       "      <th>mean</th>\n",
       "      <td>15.714790</td>\n",
       "      <td>6.622585</td>\n",
       "      <td>2017.000029</td>\n",
       "    </tr>\n",
       "    <tr>\n",
       "      <th>std</th>\n",
       "      <td>8.782886</td>\n",
       "      <td>3.523321</td>\n",
       "      <td>0.005415</td>\n",
       "    </tr>\n",
       "    <tr>\n",
       "      <th>min</th>\n",
       "      <td>1.000000</td>\n",
       "      <td>1.000000</td>\n",
       "      <td>2017.000000</td>\n",
       "    </tr>\n",
       "    <tr>\n",
       "      <th>25%</th>\n",
       "      <td>8.000000</td>\n",
       "      <td>3.000000</td>\n",
       "      <td>2017.000000</td>\n",
       "    </tr>\n",
       "    <tr>\n",
       "      <th>50%</th>\n",
       "      <td>16.000000</td>\n",
       "      <td>7.000000</td>\n",
       "      <td>2017.000000</td>\n",
       "    </tr>\n",
       "    <tr>\n",
       "      <th>75%</th>\n",
       "      <td>23.000000</td>\n",
       "      <td>10.000000</td>\n",
       "      <td>2017.000000</td>\n",
       "    </tr>\n",
       "    <tr>\n",
       "      <th>max</th>\n",
       "      <td>31.000000</td>\n",
       "      <td>12.000000</td>\n",
       "      <td>2018.000000</td>\n",
       "    </tr>\n",
       "  </tbody>\n",
       "</table>\n",
       "</div>"
      ],
      "text/plain": [
       "                DIA           MES           AÑO\n",
       "count  68206.000000  68206.000000  68206.000000\n",
       "mean      15.714790      6.622585   2017.000029\n",
       "std        8.782886      3.523321      0.005415\n",
       "min        1.000000      1.000000   2017.000000\n",
       "25%        8.000000      3.000000   2017.000000\n",
       "50%       16.000000      7.000000   2017.000000\n",
       "75%       23.000000     10.000000   2017.000000\n",
       "max       31.000000     12.000000   2018.000000"
      ]
     },
     "execution_count": 7,
     "metadata": {},
     "output_type": "execute_result"
    }
   ],
   "source": [
    "# como se distribuyen las variables numéricas\n",
    "dataset.describe()"
   ]
  },
  {
   "cell_type": "code",
   "execution_count": 8,
   "id": "cc24ab88-2a05-4017-a0e0-8a2741677f94",
   "metadata": {},
   "outputs": [
    {
     "data": {
      "text/html": [
       "<div>\n",
       "<style scoped>\n",
       "    .dataframe tbody tr th:only-of-type {\n",
       "        vertical-align: middle;\n",
       "    }\n",
       "\n",
       "    .dataframe tbody tr th {\n",
       "        vertical-align: top;\n",
       "    }\n",
       "\n",
       "    .dataframe thead th {\n",
       "        text-align: right;\n",
       "    }\n",
       "</style>\n",
       "<table border=\"1\" class=\"dataframe\">\n",
       "  <thead>\n",
       "    <tr style=\"text-align: right;\">\n",
       "      <th></th>\n",
       "      <th>Fecha-I</th>\n",
       "      <th>Vlo-I</th>\n",
       "      <th>Ori-I</th>\n",
       "      <th>Des-I</th>\n",
       "      <th>Emp-I</th>\n",
       "      <th>Fecha-O</th>\n",
       "      <th>Vlo-O</th>\n",
       "      <th>Ori-O</th>\n",
       "      <th>Des-O</th>\n",
       "      <th>Emp-O</th>\n",
       "      <th>DIANOM</th>\n",
       "      <th>TIPOVUELO</th>\n",
       "      <th>OPERA</th>\n",
       "      <th>SIGLAORI</th>\n",
       "      <th>SIGLADES</th>\n",
       "    </tr>\n",
       "  </thead>\n",
       "  <tbody>\n",
       "    <tr>\n",
       "      <th>count</th>\n",
       "      <td>68206</td>\n",
       "      <td>68206</td>\n",
       "      <td>68206</td>\n",
       "      <td>68206</td>\n",
       "      <td>68206</td>\n",
       "      <td>68206</td>\n",
       "      <td>68205</td>\n",
       "      <td>68206</td>\n",
       "      <td>68206</td>\n",
       "      <td>68206</td>\n",
       "      <td>68206</td>\n",
       "      <td>68206</td>\n",
       "      <td>68206</td>\n",
       "      <td>68206</td>\n",
       "      <td>68206</td>\n",
       "    </tr>\n",
       "    <tr>\n",
       "      <th>unique</th>\n",
       "      <td>53252</td>\n",
       "      <td>750</td>\n",
       "      <td>1</td>\n",
       "      <td>64</td>\n",
       "      <td>30</td>\n",
       "      <td>62774</td>\n",
       "      <td>866</td>\n",
       "      <td>1</td>\n",
       "      <td>63</td>\n",
       "      <td>32</td>\n",
       "      <td>7</td>\n",
       "      <td>2</td>\n",
       "      <td>23</td>\n",
       "      <td>1</td>\n",
       "      <td>62</td>\n",
       "    </tr>\n",
       "    <tr>\n",
       "      <th>top</th>\n",
       "      <td>2017-07-28 13:30:00</td>\n",
       "      <td>174</td>\n",
       "      <td>SCEL</td>\n",
       "      <td>SCFA</td>\n",
       "      <td>LAN</td>\n",
       "      <td>2017-11-05 14:51:00</td>\n",
       "      <td>174</td>\n",
       "      <td>SCEL</td>\n",
       "      <td>SCFA</td>\n",
       "      <td>LAN</td>\n",
       "      <td>Viernes</td>\n",
       "      <td>N</td>\n",
       "      <td>Grupo LATAM</td>\n",
       "      <td>Santiago</td>\n",
       "      <td>Buenos Aires</td>\n",
       "    </tr>\n",
       "    <tr>\n",
       "      <th>freq</th>\n",
       "      <td>6</td>\n",
       "      <td>686</td>\n",
       "      <td>68206</td>\n",
       "      <td>5787</td>\n",
       "      <td>37611</td>\n",
       "      <td>5</td>\n",
       "      <td>649</td>\n",
       "      <td>68206</td>\n",
       "      <td>5786</td>\n",
       "      <td>20988</td>\n",
       "      <td>10292</td>\n",
       "      <td>36966</td>\n",
       "      <td>40892</td>\n",
       "      <td>68206</td>\n",
       "      <td>6335</td>\n",
       "    </tr>\n",
       "  </tbody>\n",
       "</table>\n",
       "</div>"
      ],
      "text/plain": [
       "                    Fecha-I  Vlo-I  Ori-I  Des-I  Emp-I              Fecha-O  \\\n",
       "count                 68206  68206  68206  68206  68206                68206   \n",
       "unique                53252    750      1     64     30                62774   \n",
       "top     2017-07-28 13:30:00    174   SCEL   SCFA    LAN  2017-11-05 14:51:00   \n",
       "freq                      6    686  68206   5787  37611                    5   \n",
       "\n",
       "        Vlo-O  Ori-O  Des-O  Emp-O   DIANOM TIPOVUELO        OPERA  SIGLAORI  \\\n",
       "count   68205  68206  68206  68206    68206     68206        68206     68206   \n",
       "unique    866      1     63     32        7         2           23         1   \n",
       "top       174   SCEL   SCFA    LAN  Viernes         N  Grupo LATAM  Santiago   \n",
       "freq      649  68206   5786  20988    10292     36966        40892     68206   \n",
       "\n",
       "            SIGLADES  \n",
       "count          68206  \n",
       "unique            62  \n",
       "top     Buenos Aires  \n",
       "freq            6335  "
      ]
     },
     "execution_count": 8,
     "metadata": {},
     "output_type": "execute_result"
    }
   ],
   "source": [
    "# como se comportan las variables categóricas\n",
    "dataset.describe(include=[\"O\"])"
   ]
  },
  {
   "cell_type": "markdown",
   "id": "e9b1cba9-c235-4a2d-9f05-aaa2a18cada5",
   "metadata": {},
   "source": [
    "## 2.1 EDA: Estudio de variable target"
   ]
  },
  {
   "cell_type": "code",
   "execution_count": 9,
   "id": "4e28a8e5-dabc-425f-8cb8-2228b7326ec5",
   "metadata": {},
   "outputs": [
    {
     "data": {
      "text/plain": [
       "TIPOVUELO  DIANOM   \n",
       "I          Domingo      4547\n",
       "           Jueves       4440\n",
       "           Lunes        4492\n",
       "           Martes       4333\n",
       "           Miercoles    4419\n",
       "           Sabado       4491\n",
       "           Viernes      4518\n",
       "N          Domingo      5249\n",
       "           Jueves       5811\n",
       "           Lunes        5639\n",
       "           Martes       5329\n",
       "           Miercoles    5303\n",
       "           Sabado       3861\n",
       "           Viernes      5774\n",
       "Name: OPERA, dtype: int64"
      ]
     },
     "execution_count": 9,
     "metadata": {},
     "output_type": "execute_result"
    }
   ],
   "source": [
    "# TIPOVUELO vs OPERA\n",
    "dataset.groupby([\"TIPOVUELO\",\"DIANOM\"]).count()[\"OPERA\"]"
   ]
  },
  {
   "cell_type": "code",
   "execution_count": 10,
   "id": "0496f1cc-1278-4d3a-8108-83590debfd88",
   "metadata": {},
   "outputs": [
    {
     "name": "stdout",
     "output_type": "stream",
     "text": [
      "TIPOVUELO  DIANOM   \n",
      "I          Domingo      4547\n",
      "           Jueves       4440\n",
      "           Lunes        4492\n",
      "           Martes       4333\n",
      "           Miercoles    4419\n",
      "           Sabado       4491\n",
      "           Viernes      4518\n",
      "N          Domingo      5249\n",
      "           Jueves       5811\n",
      "           Lunes        5639\n",
      "           Martes       5329\n",
      "           Miercoles    5303\n",
      "           Sabado       3861\n",
      "           Viernes      5774\n",
      "Name: OPERA, dtype: int64\n"
     ]
    },
    {
     "data": {
      "image/png": "[encoded data removed]",
      "text/plain": [
       "<Figure size 432x288 with 1 Axes>"
      ]
     },
     "metadata": {
      "needs_background": "light"
     },
     "output_type": "display_data"
    }
   ],
   "source": [
    "#plot\n",
    "plot = dataset.groupby([\"TIPOVUELO\",\"DIANOM\"]).count()[\"OPERA\"]\n",
    "print(plot)\n",
    "(plot.unstack(level=0).plot.bar())\n",
    "plt.show()"
   ]
  },
  {
   "cell_type": "markdown",
   "id": "0e3560d0-747b-464d-bf4d-2fc97724afd6",
   "metadata": {},
   "source": [
    "## 3. Respuestas"
   ]
  },
  {
   "cell_type": "markdown",
   "id": "a1b76c4b-dadf-4498-ad46-435d1ebe644f",
   "metadata": {},
   "source": [
    "## Pregunta Numero 2"
   ]
  },
  {
   "cell_type": "code",
   "execution_count": 11,
   "id": "8ee7d8c1-ac0a-4c7f-89fb-75398ebbc28e",
   "metadata": {},
   "outputs": [],
   "source": [
    "#crear columna condicional\n",
    "dataset[\"temporada_alta\"]=np.where(dataset[\"Fecha-I\"]>\"00:15:00\",1,0)"
   ]
  },
  {
   "cell_type": "code",
   "execution_count": 12,
   "id": "c9d590bb-a902-4c46-95cd-abbd6f3df5ef",
   "metadata": {},
   "outputs": [],
   "source": [
    "#transformar columnas a datetime\n",
    "dataset[\"Fecha-I\"]=pd.to_datetime(dataset[\"Fecha-I\"])\n",
    "dataset[\"Fecha-O\"]=pd.to_datetime(dataset[\"Fecha-O\"])"
   ]
  },
  {
   "cell_type": "code",
   "execution_count": 13,
   "id": "82f675e2-2e83-4912-81b1-46259c5acb7a",
   "metadata": {},
   "outputs": [],
   "source": [
    "#diferencia de tiempo\n",
    "dif_min= dataset[\"Fecha-O\"]-dataset[\"Fecha-I\"]"
   ]
  },
  {
   "cell_type": "code",
   "execution_count": 14,
   "id": "30011141-767f-487b-b6e5-94284c1b552f",
   "metadata": {},
   "outputs": [],
   "source": [
    "#agregar columnas \n",
    "dataset=dataset.assign(dif_min=dif_min.values)"
   ]
  },
  {
   "cell_type": "code",
   "execution_count": 15,
   "id": "9fcfbaba-b3ba-4462-952a-fa3d5afe3c1b",
   "metadata": {},
   "outputs": [],
   "source": [
    "#crear columna condicional\n",
    "dataset[\"atraso_15\"]=np.where(dataset[\"dif_min\"]>\"00:15:00\",1,0)"
   ]
  },
  {
   "cell_type": "code",
   "execution_count": 16,
   "id": "6b147baf-e4dc-4c22-b8ca-896fd8651607",
   "metadata": {},
   "outputs": [],
   "source": [
    "#crear columna condicional\n",
    "dataset[\"periodo_dia\"]=np.where(dataset[\"Fecha-I\"]>\"00:15:00\",1,0)"
   ]
  },
  {
   "cell_type": "code",
   "execution_count": 17,
   "id": "8e7793f5-7877-44c4-86a8-ca0e395de3f6",
   "metadata": {},
   "outputs": [
    {
     "data": {
      "text/html": [
       "<div>\n",
       "<style scoped>\n",
       "    .dataframe tbody tr th:only-of-type {\n",
       "        vertical-align: middle;\n",
       "    }\n",
       "\n",
       "    .dataframe tbody tr th {\n",
       "        vertical-align: top;\n",
       "    }\n",
       "\n",
       "    .dataframe thead th {\n",
       "        text-align: right;\n",
       "    }\n",
       "</style>\n",
       "<table border=\"1\" class=\"dataframe\">\n",
       "  <thead>\n",
       "    <tr style=\"text-align: right;\">\n",
       "      <th></th>\n",
       "      <th>Fecha-I</th>\n",
       "      <th>Vlo-I</th>\n",
       "      <th>Ori-I</th>\n",
       "      <th>Des-I</th>\n",
       "      <th>Emp-I</th>\n",
       "      <th>Fecha-O</th>\n",
       "      <th>Vlo-O</th>\n",
       "      <th>Ori-O</th>\n",
       "      <th>Des-O</th>\n",
       "      <th>Emp-O</th>\n",
       "      <th>...</th>\n",
       "      <th>AÑO</th>\n",
       "      <th>DIANOM</th>\n",
       "      <th>TIPOVUELO</th>\n",
       "      <th>OPERA</th>\n",
       "      <th>SIGLAORI</th>\n",
       "      <th>SIGLADES</th>\n",
       "      <th>temporada_alta</th>\n",
       "      <th>dif_min</th>\n",
       "      <th>atraso_15</th>\n",
       "      <th>periodo_dia</th>\n",
       "    </tr>\n",
       "  </thead>\n",
       "  <tbody>\n",
       "    <tr>\n",
       "      <th>0</th>\n",
       "      <td>2017-01-01 23:30:00</td>\n",
       "      <td>226</td>\n",
       "      <td>SCEL</td>\n",
       "      <td>KMIA</td>\n",
       "      <td>AAL</td>\n",
       "      <td>2017-01-01 23:33:00</td>\n",
       "      <td>226</td>\n",
       "      <td>SCEL</td>\n",
       "      <td>KMIA</td>\n",
       "      <td>AAL</td>\n",
       "      <td>...</td>\n",
       "      <td>2017</td>\n",
       "      <td>Domingo</td>\n",
       "      <td>I</td>\n",
       "      <td>American Airlines</td>\n",
       "      <td>Santiago</td>\n",
       "      <td>Miami</td>\n",
       "      <td>1</td>\n",
       "      <td>0 days 00:03:00</td>\n",
       "      <td>0</td>\n",
       "      <td>0</td>\n",
       "    </tr>\n",
       "    <tr>\n",
       "      <th>1</th>\n",
       "      <td>2017-01-02 23:30:00</td>\n",
       "      <td>226</td>\n",
       "      <td>SCEL</td>\n",
       "      <td>KMIA</td>\n",
       "      <td>AAL</td>\n",
       "      <td>2017-01-02 23:39:00</td>\n",
       "      <td>226</td>\n",
       "      <td>SCEL</td>\n",
       "      <td>KMIA</td>\n",
       "      <td>AAL</td>\n",
       "      <td>...</td>\n",
       "      <td>2017</td>\n",
       "      <td>Lunes</td>\n",
       "      <td>I</td>\n",
       "      <td>American Airlines</td>\n",
       "      <td>Santiago</td>\n",
       "      <td>Miami</td>\n",
       "      <td>1</td>\n",
       "      <td>0 days 00:09:00</td>\n",
       "      <td>0</td>\n",
       "      <td>0</td>\n",
       "    </tr>\n",
       "    <tr>\n",
       "      <th>2</th>\n",
       "      <td>2017-01-03 23:30:00</td>\n",
       "      <td>226</td>\n",
       "      <td>SCEL</td>\n",
       "      <td>KMIA</td>\n",
       "      <td>AAL</td>\n",
       "      <td>2017-01-03 23:39:00</td>\n",
       "      <td>226</td>\n",
       "      <td>SCEL</td>\n",
       "      <td>KMIA</td>\n",
       "      <td>AAL</td>\n",
       "      <td>...</td>\n",
       "      <td>2017</td>\n",
       "      <td>Martes</td>\n",
       "      <td>I</td>\n",
       "      <td>American Airlines</td>\n",
       "      <td>Santiago</td>\n",
       "      <td>Miami</td>\n",
       "      <td>1</td>\n",
       "      <td>0 days 00:09:00</td>\n",
       "      <td>0</td>\n",
       "      <td>0</td>\n",
       "    </tr>\n",
       "    <tr>\n",
       "      <th>3</th>\n",
       "      <td>2017-01-04 23:30:00</td>\n",
       "      <td>226</td>\n",
       "      <td>SCEL</td>\n",
       "      <td>KMIA</td>\n",
       "      <td>AAL</td>\n",
       "      <td>2017-01-04 23:33:00</td>\n",
       "      <td>226</td>\n",
       "      <td>SCEL</td>\n",
       "      <td>KMIA</td>\n",
       "      <td>AAL</td>\n",
       "      <td>...</td>\n",
       "      <td>2017</td>\n",
       "      <td>Miercoles</td>\n",
       "      <td>I</td>\n",
       "      <td>American Airlines</td>\n",
       "      <td>Santiago</td>\n",
       "      <td>Miami</td>\n",
       "      <td>1</td>\n",
       "      <td>0 days 00:03:00</td>\n",
       "      <td>0</td>\n",
       "      <td>0</td>\n",
       "    </tr>\n",
       "    <tr>\n",
       "      <th>4</th>\n",
       "      <td>2017-01-05 23:30:00</td>\n",
       "      <td>226</td>\n",
       "      <td>SCEL</td>\n",
       "      <td>KMIA</td>\n",
       "      <td>AAL</td>\n",
       "      <td>2017-01-05 23:28:00</td>\n",
       "      <td>226</td>\n",
       "      <td>SCEL</td>\n",
       "      <td>KMIA</td>\n",
       "      <td>AAL</td>\n",
       "      <td>...</td>\n",
       "      <td>2017</td>\n",
       "      <td>Jueves</td>\n",
       "      <td>I</td>\n",
       "      <td>American Airlines</td>\n",
       "      <td>Santiago</td>\n",
       "      <td>Miami</td>\n",
       "      <td>1</td>\n",
       "      <td>-1 days +23:58:00</td>\n",
       "      <td>0</td>\n",
       "      <td>0</td>\n",
       "    </tr>\n",
       "  </tbody>\n",
       "</table>\n",
       "<p>5 rows × 22 columns</p>\n",
       "</div>"
      ],
      "text/plain": [
       "              Fecha-I Vlo-I Ori-I Des-I Emp-I             Fecha-O Vlo-O Ori-O  \\\n",
       "0 2017-01-01 23:30:00   226  SCEL  KMIA   AAL 2017-01-01 23:33:00   226  SCEL   \n",
       "1 2017-01-02 23:30:00   226  SCEL  KMIA   AAL 2017-01-02 23:39:00   226  SCEL   \n",
       "2 2017-01-03 23:30:00   226  SCEL  KMIA   AAL 2017-01-03 23:39:00   226  SCEL   \n",
       "3 2017-01-04 23:30:00   226  SCEL  KMIA   AAL 2017-01-04 23:33:00   226  SCEL   \n",
       "4 2017-01-05 23:30:00   226  SCEL  KMIA   AAL 2017-01-05 23:28:00   226  SCEL   \n",
       "\n",
       "  Des-O Emp-O  ...   AÑO     DIANOM  TIPOVUELO              OPERA  SIGLAORI  \\\n",
       "0  KMIA   AAL  ...  2017    Domingo          I  American Airlines  Santiago   \n",
       "1  KMIA   AAL  ...  2017      Lunes          I  American Airlines  Santiago   \n",
       "2  KMIA   AAL  ...  2017     Martes          I  American Airlines  Santiago   \n",
       "3  KMIA   AAL  ...  2017  Miercoles          I  American Airlines  Santiago   \n",
       "4  KMIA   AAL  ...  2017     Jueves          I  American Airlines  Santiago   \n",
       "\n",
       "  SIGLADES temporada_alta           dif_min  atraso_15 periodo_dia  \n",
       "0    Miami              1   0 days 00:03:00          0           0  \n",
       "1    Miami              1   0 days 00:09:00          0           0  \n",
       "2    Miami              1   0 days 00:09:00          0           0  \n",
       "3    Miami              1   0 days 00:03:00          0           0  \n",
       "4    Miami              1 -1 days +23:58:00          0           0  \n",
       "\n",
       "[5 rows x 22 columns]"
      ]
     },
     "execution_count": 17,
     "metadata": {},
     "output_type": "execute_result"
    }
   ],
   "source": [
    "#comprobar\n",
    "dataset.head()"
   ]
  },
  {
   "cell_type": "code",
   "execution_count": 18,
   "id": "7ab9f9d6-e8a3-4e5d-84c6-36f53ded078c",
   "metadata": {},
   "outputs": [],
   "source": [
    "# crear dataframe \n",
    "df=pd.DataFrame(dataset)"
   ]
  },
  {
   "cell_type": "code",
   "execution_count": 19,
   "id": "cdd99b64-2042-4d31-b080-575595a30fd5",
   "metadata": {},
   "outputs": [],
   "source": [
    "# Expotar df a csv con puntos y comas\n",
    "dataset.to_csv(\"synthetic_features.csv\", sep=\";\" , encoding=\"utf-8\")"
   ]
  },
  {
   "cell_type": "markdown",
   "id": "f41e96a9-3528-491f-952c-7de77411e4c4",
   "metadata": {},
   "source": [
    "## 3.Procesamiento de datos"
   ]
  },
  {
   "cell_type": "markdown",
   "id": "776636c1-c15d-4876-9358-a100f4f852c4",
   "metadata": {},
   "source": [
    "Empezamos seleccionando las variables que queremos trabajar que serían: \n",
    "* temporada_alta\n",
    "* atraso_15\n",
    "* perido_dia"
   ]
  },
  {
   "cell_type": "code",
   "execution_count": 20,
   "id": "91ee9d66-78b4-42df-b17c-d8f2e9d758cd",
   "metadata": {},
   "outputs": [
    {
     "data": {
      "text/html": [
       "<div>\n",
       "<style scoped>\n",
       "    .dataframe tbody tr th:only-of-type {\n",
       "        vertical-align: middle;\n",
       "    }\n",
       "\n",
       "    .dataframe tbody tr th {\n",
       "        vertical-align: top;\n",
       "    }\n",
       "\n",
       "    .dataframe thead th {\n",
       "        text-align: right;\n",
       "    }\n",
       "</style>\n",
       "<table border=\"1\" class=\"dataframe\">\n",
       "  <thead>\n",
       "    <tr style=\"text-align: right;\">\n",
       "      <th></th>\n",
       "      <th>temporada_alta</th>\n",
       "      <th>atraso_15</th>\n",
       "      <th>periodo_dia</th>\n",
       "    </tr>\n",
       "  </thead>\n",
       "  <tbody>\n",
       "    <tr>\n",
       "      <th>0</th>\n",
       "      <td>1</td>\n",
       "      <td>0</td>\n",
       "      <td>0</td>\n",
       "    </tr>\n",
       "    <tr>\n",
       "      <th>1</th>\n",
       "      <td>1</td>\n",
       "      <td>0</td>\n",
       "      <td>0</td>\n",
       "    </tr>\n",
       "    <tr>\n",
       "      <th>2</th>\n",
       "      <td>1</td>\n",
       "      <td>0</td>\n",
       "      <td>0</td>\n",
       "    </tr>\n",
       "  </tbody>\n",
       "</table>\n",
       "</div>"
      ],
      "text/plain": [
       "   temporada_alta  atraso_15  periodo_dia\n",
       "0               1          0            0\n",
       "1               1          0            0\n",
       "2               1          0            0"
      ]
     },
     "execution_count": 20,
     "metadata": {},
     "output_type": "execute_result"
    }
   ],
   "source": [
    "dataset[[\"temporada_alta\",\"atraso_15\",\"periodo_dia\"]].head(3)"
   ]
  },
  {
   "cell_type": "code",
   "execution_count": 21,
   "id": "2dba5bd8-a49a-4995-9661-9b9ef0c105e4",
   "metadata": {},
   "outputs": [
    {
     "name": "stdout",
     "output_type": "stream",
     "text": [
      "<class 'pandas.core.frame.DataFrame'>\n",
      "RangeIndex: 68206 entries, 0 to 68205\n",
      "Data columns (total 3 columns):\n",
      " #   Column          Non-Null Count  Dtype\n",
      "---  ------          --------------  -----\n",
      " 0   temporada_alta  68206 non-null  int64\n",
      " 1   atraso_15       68206 non-null  int64\n",
      " 2   periodo_dia     68206 non-null  int64\n",
      "dtypes: int64(3)\n",
      "memory usage: 1.6 MB\n"
     ]
    }
   ],
   "source": [
    "dataset[[\"temporada_alta\",\"atraso_15\",\"periodo_dia\"]].info()"
   ]
  },
  {
   "cell_type": "markdown",
   "id": "7007fbe0-8959-4f3c-9aa5-b28f8c87acef",
   "metadata": {},
   "source": [
    "-----------------------\n",
    "Analisis\n",
    "\n",
    "*    Datos en perfecto estado sin datos nulos y tipo int.\n",
    "-----------------------"
   ]
  },
  {
   "cell_type": "code",
   "execution_count": 22,
   "id": "dce4432b-78a1-46e8-bbda-f90e52058bab",
   "metadata": {},
   "outputs": [
    {
     "name": "stdout",
     "output_type": "stream",
     "text": [
      "(68206,) (68206, 2)\n"
     ]
    }
   ],
   "source": [
    "# variable dependiente\n",
    "Y_train = dataset[\"atraso_15\"]\n",
    "\n",
    "# preprocesamiento de variables independientes\n",
    "features = [\"temporada_alta\",\"periodo_dia\"]\n",
    "X_train = dataset[features]\n",
    "\n",
    "print(Y_train.shape, X_train.shape)"
   ]
  },
  {
   "cell_type": "markdown",
   "id": "233aa95b-155e-44ab-84c0-8ab015511d75",
   "metadata": {},
   "source": [
    "## 4. Modelos"
   ]
  },
  {
   "cell_type": "markdown",
   "id": "2d0bcb26-afe6-4fc2-b5a8-1442b87ada48",
   "metadata": {},
   "source": [
    "* regresión logistica\n",
    "* arboles de decisión"
   ]
  },
  {
   "cell_type": "code",
   "execution_count": 23,
   "id": "feeacb71-970c-438a-902d-b1cc04cf09e2",
   "metadata": {},
   "outputs": [
    {
     "data": {
      "text/plain": [
       "LogisticRegression()"
      ]
     },
     "execution_count": 23,
     "metadata": {},
     "output_type": "execute_result"
    }
   ],
   "source": [
    "# entrenando modelo regresión logistica\n",
    "from sklearn.linear_model import LogisticRegression\n",
    "\n",
    "logreg = LogisticRegression()\n",
    "logreg.fit(X_train, Y_train)"
   ]
  },
  {
   "cell_type": "code",
   "execution_count": 24,
   "id": "0bc58db4-474b-49ac-a05c-6d3bdbde8f48",
   "metadata": {},
   "outputs": [
    {
     "data": {
      "text/plain": [
       "DecisionTreeClassifier()"
      ]
     },
     "execution_count": 24,
     "metadata": {},
     "output_type": "execute_result"
    }
   ],
   "source": [
    "# entrenando modelo arboles de decisión\n",
    "from sklearn.tree import DecisionTreeClassifier\n",
    "\n",
    "decision_tree = DecisionTreeClassifier()\n",
    "decision_tree.fit(X_train, Y_train)"
   ]
  },
  {
   "cell_type": "markdown",
   "id": "b819a769-4a6d-4dfb-bad6-cc26522b9e8b",
   "metadata": {},
   "source": [
    "## 5. Evaluación"
   ]
  },
  {
   "cell_type": "markdown",
   "id": "594b340a-2994-4ded-8b54-aa3e4eef3411",
   "metadata": {},
   "source": [
    "Aquí vamos a hacer una matriz de confusión y evaluar que tan bueno es cada modelo"
   ]
  },
  {
   "cell_type": "code",
   "execution_count": 25,
   "id": "720ea569-43df-4cd4-a1fa-84222323adf6",
   "metadata": {},
   "outputs": [],
   "source": [
    "from sklearn.metrics import plot_confusion_matrix\n",
    "\n",
    "def conf_mat_acc(modelo):\n",
    "  disp = plot_confusion_matrix(modelo, X_train, Y_train,\n",
    "                        cmap=plt.cm.Blues, values_format=\"d\")\n",
    "  true_pred = disp.confusion_matrix[0,0]+disp.confusion_matrix[1,1]\n",
    "  total_data = np.sum(disp.confusion_matrix)\n",
    "  accuracy = true_pred/total_data\n",
    "  print('accuracy: ', np.round(accuracy, 2))\n",
    "  plt.show()"
   ]
  },
  {
   "cell_type": "code",
   "execution_count": 26,
   "id": "0303253e-36a0-4d3c-a76d-1cf043f3a059",
   "metadata": {},
   "outputs": [
    {
     "name": "stdout",
     "output_type": "stream",
     "text": [
      "accuracy:  0.82\n"
     ]
    },
    {
     "data": {
      "image/png": "[encoded data removed]",
      "text/plain": [
       "<Figure size 432x288 with 2 Axes>"
      ]
     },
     "metadata": {
      "needs_background": "light"
     },
     "output_type": "display_data"
    }
   ],
   "source": [
    "conf_mat_acc(logreg)"
   ]
  },
  {
   "cell_type": "code",
   "execution_count": 27,
   "id": "23703dca-71bd-4f14-a4b8-7d732d7e244f",
   "metadata": {},
   "outputs": [
    {
     "name": "stdout",
     "output_type": "stream",
     "text": [
      "accuracy:  0.82\n"
     ]
    },
    {
     "data": {
      "image/png": "[encoded data removed]",
      "text/plain": [
       "<Figure size 432x288 with 2 Axes>"
      ]
     },
     "metadata": {
      "needs_background": "light"
     },
     "output_type": "display_data"
    }
   ],
   "source": [
    "conf_mat_acc(decision_tree)"
   ]
  },
  {
   "cell_type": "markdown",
   "id": "84b1f45b-27ea-4481-8776-1dac673600a8",
   "metadata": {},
   "source": [
    "## 5.1 Evaluación sobre el dataset"
   ]
  },
  {
   "cell_type": "code",
   "execution_count": 28,
   "id": "139e68b0-e48d-4c21-9194-64769ae8bb13",
   "metadata": {},
   "outputs": [
    {
     "name": "stdout",
     "output_type": "stream",
     "text": [
      "              Fecha-I Vlo-I Ori-I Des-I Emp-I             Fecha-O Vlo-O Ori-O  \\\n",
      "0 2017-01-01 23:30:00   226  SCEL  KMIA   AAL 2017-01-01 23:33:00   226  SCEL   \n",
      "1 2017-01-02 23:30:00   226  SCEL  KMIA   AAL 2017-01-02 23:39:00   226  SCEL   \n",
      "2 2017-01-03 23:30:00   226  SCEL  KMIA   AAL 2017-01-03 23:39:00   226  SCEL   \n",
      "\n",
      "  Des-O Emp-O  ...   AÑO   DIANOM  TIPOVUELO              OPERA  SIGLAORI  \\\n",
      "0  KMIA   AAL  ...  2017  Domingo          I  American Airlines  Santiago   \n",
      "1  KMIA   AAL  ...  2017    Lunes          I  American Airlines  Santiago   \n",
      "2  KMIA   AAL  ...  2017   Martes          I  American Airlines  Santiago   \n",
      "\n",
      "  SIGLADES temporada_alta         dif_min  atraso_15 periodo_dia  \n",
      "0    Miami              1 0 days 00:03:00          0           0  \n",
      "1    Miami              1 0 days 00:09:00          0           0  \n",
      "2    Miami              1 0 days 00:09:00          0           0  \n",
      "\n",
      "[3 rows x 22 columns]\n",
      "<class 'pandas.core.frame.DataFrame'>\n",
      "RangeIndex: 68206 entries, 0 to 68205\n",
      "Data columns (total 22 columns):\n",
      " #   Column          Non-Null Count  Dtype          \n",
      "---  ------          --------------  -----          \n",
      " 0   Fecha-I         68206 non-null  datetime64[ns] \n",
      " 1   Vlo-I           68206 non-null  object         \n",
      " 2   Ori-I           68206 non-null  object         \n",
      " 3   Des-I           68206 non-null  object         \n",
      " 4   Emp-I           68206 non-null  object         \n",
      " 5   Fecha-O         68206 non-null  datetime64[ns] \n",
      " 6   Vlo-O           68205 non-null  object         \n",
      " 7   Ori-O           68206 non-null  object         \n",
      " 8   Des-O           68206 non-null  object         \n",
      " 9   Emp-O           68206 non-null  object         \n",
      " 10  DIA             68206 non-null  int64          \n",
      " 11  MES             68206 non-null  int64          \n",
      " 12  AÑO             68206 non-null  int64          \n",
      " 13  DIANOM          68206 non-null  object         \n",
      " 14  TIPOVUELO       68206 non-null  object         \n",
      " 15  OPERA           68206 non-null  object         \n",
      " 16  SIGLAORI        68206 non-null  object         \n",
      " 17  SIGLADES        68206 non-null  object         \n",
      " 18  temporada_alta  68206 non-null  int64          \n",
      " 19  dif_min         68206 non-null  timedelta64[ns]\n",
      " 20  atraso_15       68206 non-null  int64          \n",
      " 21  periodo_dia     68206 non-null  int64          \n",
      "dtypes: datetime64[ns](2), int64(6), object(13), timedelta64[ns](1)\n",
      "memory usage: 11.4+ MB\n"
     ]
    }
   ],
   "source": [
    "# ahora hay que preparar el dataset para evaluación\n",
    "print(dataset.head(3))\n",
    "dataset.info()"
   ]
  },
  {
   "cell_type": "code",
   "execution_count": 29,
   "id": "139e44f2-a0eb-4b7c-aba3-590c5d102a99",
   "metadata": {},
   "outputs": [
    {
     "name": "stdout",
     "output_type": "stream",
     "text": [
      "(68206, 2)\n"
     ]
    }
   ],
   "source": [
    "# crear datset \n",
    "X_test = dataset[features]\n",
    "\n",
    "print(X_test.shape)"
   ]
  },
  {
   "cell_type": "code",
   "execution_count": 30,
   "id": "0fa07adf-2887-471e-97e0-5e06164da6a0",
   "metadata": {},
   "outputs": [
    {
     "name": "stdout",
     "output_type": "stream",
     "text": [
      "[0 0 0 0 0 0 0 0 0 0]\n"
     ]
    }
   ],
   "source": [
    "# prediccion de atraso en dataset\n",
    "Y_pred_log = logreg.predict(X_test)\n",
    "Y_pred_tree = decision_tree.predict(X_test)\n",
    "print(Y_pred_log[0:10])"
   ]
  },
  {
   "cell_type": "markdown",
   "id": "38a9d41d-74bd-42ae-af0b-b8213a425aaf",
   "metadata": {},
   "source": [
    "## 6. Predicción"
   ]
  },
  {
   "cell_type": "code",
   "execution_count": 31,
   "id": "d23baa64-a756-433d-8b53-3c86b84d5b25",
   "metadata": {},
   "outputs": [
    {
     "name": "stdout",
     "output_type": "stream",
     "text": [
      "[0 0 0 0 0 0 0 0 0 0]\n",
      "[0 0 0 0 0 0 0 0 0 0]\n"
     ]
    }
   ],
   "source": [
    "# prediciendo sobre el dataset\n",
    "print(Y_pred_log[0:10])\n",
    "print(Y_pred_tree[0:10])"
   ]
  },
  {
   "cell_type": "code",
   "execution_count": 32,
   "id": "d3c29097-20d8-4e2d-8696-60f2adca4f78",
   "metadata": {},
   "outputs": [],
   "source": [
    "# download_output(Y_pred_log, 'americo_pred_log.csv')\n",
    "# download_output(Y_pred_tree, 'americo_pred_tree.csv')"
   ]
  },
  {
   "cell_type": "markdown",
   "id": "0dfad556-b21f-4241-9401-0b552ec66741",
   "metadata": {},
   "source": [
    "## MUCHAS GRACIAS"
   ]
  }
 ],
 "metadata": {
  "kernelspec": {
   "display_name": "Python 3 (ipykernel)",
   "language": "python",
   "name": "python3"
  },
  "language_info": {
   "codemirror_mode": {
    "name": "ipython",
    "version": 3
   },
   "file_extension": ".py",
   "mimetype": "text/x-python",
   "name": "python",
   "nbconvert_exporter": "python",
   "pygments_lexer": "ipython3",
   "version": "3.9.7"
  }
 },
 "nbformat": 4,
 "nbformat_minor": 5
}
